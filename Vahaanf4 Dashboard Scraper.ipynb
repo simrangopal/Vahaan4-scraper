{
 "cells": [
  {
   "cell_type": "code",
   "execution_count": 1,
   "id": "d0fbe29c",
   "metadata": {},
   "outputs": [
    {
     "name": "stdout",
     "output_type": "stream",
     "text": [
      "Defaulting to user installation because normal site-packages is not writeable\n",
      "Requirement already satisfied: selenium in c:\\users\\simran.atul.gopal\\appdata\\roaming\\python\\python39\\site-packages (4.2.0)\n",
      "Requirement already satisfied: trio-websocket~=0.9 in c:\\users\\simran.atul.gopal\\appdata\\roaming\\python\\python39\\site-packages (from selenium) (0.9.2)\n",
      "Requirement already satisfied: urllib3[secure,socks]~=1.26 in c:\\anaconnda\\lib\\site-packages (from selenium) (1.26.11)\n",
      "Requirement already satisfied: trio~=0.17 in c:\\users\\simran.atul.gopal\\appdata\\roaming\\python\\python39\\site-packages (from selenium) (0.22.0)\n",
      "Requirement already satisfied: idna in c:\\anaconnda\\lib\\site-packages (from trio~=0.17->selenium) (3.3)\n",
      "Requirement already satisfied: attrs>=19.2.0 in c:\\anaconnda\\lib\\site-packages (from trio~=0.17->selenium) (21.4.0)\n",
      "Requirement already satisfied: sortedcontainers in c:\\anaconnda\\lib\\site-packages (from trio~=0.17->selenium) (2.4.0)\n",
      "Requirement already satisfied: async-generator>=1.9 in c:\\users\\simran.atul.gopal\\appdata\\roaming\\python\\python39\\site-packages (from trio~=0.17->selenium) (1.10)\n",
      "Requirement already satisfied: outcome in c:\\users\\simran.atul.gopal\\appdata\\roaming\\python\\python39\\site-packages (from trio~=0.17->selenium) (1.2.0)\n",
      "Requirement already satisfied: sniffio in c:\\anaconnda\\lib\\site-packages (from trio~=0.17->selenium) (1.2.0)\n",
      "Requirement already satisfied: cffi>=1.14 in c:\\anaconnda\\lib\\site-packages (from trio~=0.17->selenium) (1.15.1)\n",
      "Requirement already satisfied: exceptiongroup>=1.0.0rc9 in c:\\users\\simran.atul.gopal\\appdata\\roaming\\python\\python39\\site-packages (from trio~=0.17->selenium) (1.1.0)\n",
      "Requirement already satisfied: wsproto>=0.14 in c:\\users\\simran.atul.gopal\\appdata\\roaming\\python\\python39\\site-packages (from trio-websocket~=0.9->selenium) (1.2.0)\n",
      "Requirement already satisfied: certifi in c:\\anaconnda\\lib\\site-packages (from urllib3[secure,socks]~=1.26->selenium) (2022.9.14)\n",
      "Requirement already satisfied: pyOpenSSL>=0.14 in c:\\anaconnda\\lib\\site-packages (from urllib3[secure,socks]~=1.26->selenium) (22.0.0)\n",
      "Requirement already satisfied: cryptography>=1.3.4 in c:\\anaconnda\\lib\\site-packages (from urllib3[secure,socks]~=1.26->selenium) (37.0.1)\n",
      "Requirement already satisfied: PySocks!=1.5.7,<2.0,>=1.5.6 in c:\\anaconnda\\lib\\site-packages (from urllib3[secure,socks]~=1.26->selenium) (1.7.1)\n",
      "Requirement already satisfied: pycparser in c:\\anaconnda\\lib\\site-packages (from cffi>=1.14->trio~=0.17->selenium) (2.21)\n",
      "Requirement already satisfied: h11<1,>=0.9.0 in c:\\users\\simran.atul.gopal\\appdata\\roaming\\python\\python39\\site-packages (from wsproto>=0.14->trio-websocket~=0.9->selenium) (0.14.0)\n"
     ]
    }
   ],
   "source": [
    "! pip install selenium\n",
    "from selenium import webdriver\n",
    "from selenium.webdriver.support.select import Select\n",
    "from selenium.webdriver.common.by import By\n",
    "from selenium.webdriver.common.keys import Keys\n",
    "from selenium.webdriver import Chrome\n",
    "from selenium.webdriver.common.action_chains import ActionChains"
   ]
  },
  {
   "cell_type": "code",
   "execution_count": 20,
   "id": "88860da1",
   "metadata": {},
   "outputs": [
    {
     "name": "stderr",
     "output_type": "stream",
     "text": [
      "C:\\Users\\simran.atul.gopal\\AppData\\Local\\Temp\\ipykernel_30264\\3269765725.py:2: DeprecationWarning: executable_path has been deprecated, please pass in a Service object\n",
      "  driver = Chrome(executable_path=r\"C:\\Users\\simran.atul.gopal\\Downloads\\chromedriver_win32 (1)\\chromedriver.exe\")\n"
     ]
    }
   ],
   "source": [
    "# opening the site\n",
    "driver = Chrome(executable_path=r\"C:\\Users\\simra\\Downloads\\chromedriver_win32 (1)\\chromedriver.exe\")\n",
    "driver.get(\"https://vahan.parivahan.gov.in/vahan4dashboard/\")"
   ]
  },
  {
   "cell_type": "code",
   "execution_count": 21,
   "id": "f205d179",
   "metadata": {},
   "outputs": [],
   "source": [
    "# clicking on the dropdown option for states and UTs\n",
    "button = driver.find_element(By.XPATH,'//*[@id=\"j_idt44_label\"]')\n",
    "driver.implicitly_wait(10)\n",
    "ActionChains(driver).move_to_element(button).click(button).perform()"
   ]
  },
  {
   "cell_type": "code",
   "execution_count": 22,
   "id": "96b84c7b",
   "metadata": {},
   "outputs": [],
   "source": [
    "# checking if the button for maharashtra is visible\n",
    "button = driver.find_element(By.XPATH,'//*[@id=\"j_idt44_19\"]')\n",
    "if button.is_displayed():\n",
    "    ActionChains(driver).move_to_element(button).click(button).perform()\n",
    "else:\n",
    "    print(\"Element not visible\")"
   ]
  },
  {
   "cell_type": "code",
   "execution_count": 23,
   "id": "0deaf5ae",
   "metadata": {},
   "outputs": [],
   "source": [
    "# clicking on the district button and checking if options are visible\n",
    "driver.find_element(By.XPATH,'//*[@id=\"selectedRto_label\"]').click()\n",
    "button = driver.find_element(By.XPATH,'//*[@id=\"selectedRto_1\"]')\n",
    "if button.is_displayed():\n",
    "    ActionChains(driver).move_to_element(button).click(button).perform()\n",
    "else:\n",
    "    print(\"Element not visible\")\n"
   ]
  },
  {
   "cell_type": "code",
   "execution_count": 24,
   "id": "d497f5f2",
   "metadata": {},
   "outputs": [],
   "source": [
    "# extracting the names of all RTOs in a list\n",
    "list=[]\n",
    "for i in range(1,54):\n",
    "    a=driver.find_element(By.XPATH,'//*[@id=\"selectedRto_'+str(i)+'\"]')\n",
    "    list.append(a.get_attribute(\"innerHTML\"))"
   ]
  },
  {
   "cell_type": "code",
   "execution_count": 25,
   "id": "a1184af3",
   "metadata": {},
   "outputs": [
    {
     "name": "stdout",
     "output_type": "stream",
     "text": [
      "['AHEMEDNAGAR - MH16( 16-MAR-2017 )', 'AKLUJ - MH45( 03-APR-2017 )', 'AKOLA - MH30( 20-FEB-2017 )', 'AMBEJOGAI - MH44( 02-MAY-2017 )', 'AMRAWATI - MH27( 21-JAN-2017 )', 'AURANGABAD - MH20( 20-OCT-2016 )', 'BARAMATI - MH42( 10-MAR-2017 )', 'BEED - MH23( 17-MAR-2017 )', 'BHANDARA - MH36( 12-APR-2017 )', 'BULDHANA - MH28( 07-NOV-2017 )', 'CHANDRAPUR - MH34( 25-APR-2017 )', 'Chiplun Chiplun Track - MH202( 04-DEC-2019 )', 'DHULE - MH18( 03-JAN-2017 )', 'DY REGIONAL TRANSPORT OFFICE, HINGOLI - MH38( 15-JUL-2017 )', 'DY.R.T.O.BORIVALI - MH47( 21-APR-2017 )', 'DY RTO PIMPRI CHINCHWAD - MH14( 06-FEB-2017 )', 'DY RTO RATNAGIRI - MH8( 10-APR-2017 )', 'GADCHIROLI - MH33( 18-APR-2017 )', 'GONDHIA - MH35( 11-APR-2017 )', 'JALANA - MH21( 03-AUG-2017 )', 'JALGAON - MH19( 24-MAR-2017 )', 'KALYAN - MH5( 11-MAY-2017 )', 'KARAD - MH50( 20-MAR-2017 )', 'KOLHAPUR - MH9( 02-MAR-2017 )', 'LATUR - MH24( 15-MAR-2017 )', 'MALEGAON - MH41( 23-AUG-2017 )', 'MUMBAI (CENTRAL) - MH1( 15-DEC-2016 )', 'MUMBAI (EAST) - MH3( 13-DEC-2016 )', 'MUMBAI (WEST) - MH2( 21-APR-2017 )', 'NAGPUR (EAST) - MH49( 17-APR-2017 )', 'NAGPUR (RURAL) - MH40( 17-JAN-2017 )', 'NAGPUR (U) - MH31( 18-JAN-2017 )', 'NANDED - MH26( 12-JAN-2017 )', 'NANDURBAR - MH39( 02-MAY-2017 )', 'NASHIK - MH15( 05-JAN-2017 )', 'OSMANABAD - MH25( 31-OCT-2017 )', 'PANVEL - MH46( 31-JAN-2017 )', 'PARBHANI - MH22( 25-APR-2017 )', 'PEN (RAIGAD) - MH6( 16-MAY-2017 )', 'PUNE - MH12( 25-JAN-2017 )', 'RTO MH04-Mira Bhayander FitnessTrack - MH203( 01-MAY-2022 )', 'SANGLI - MH10( 03-MAR-2017 )', 'SATARA - MH11( 04-MAR-2017 )', 'SINDHUDURG(KUDAL) - MH7( 10-APR-2017 )', 'SOLAPUR - MH13( 05-APR-2017 )', 'SRIRAMPUR - MH17( 22-MAR-2017 )', 'TC OFFICE - MH99( 06-JUN-2018 )', 'THANE - MH4( 08-MAR-2017 )', 'VASAI - MH48( 08-JUN-2017 )', 'VASHI (NEW MUMBAI) - MH43( 07-JUL-2016 )', 'WARDHA - MH32( 06-APR-2017 )', 'WASHIM - MH37( 11-APR-2017 )', 'YAWATMAL - MH29( 07-JUL-2017 )']\n"
     ]
    }
   ],
   "source": [
    "print(list)"
   ]
  },
  {
   "cell_type": "code",
   "execution_count": 26,
   "id": "ea003a1a",
   "metadata": {},
   "outputs": [],
   "source": [
    "driver.quit()"
   ]
  },
  {
   "cell_type": "code",
   "execution_count": null,
   "id": "7eedc86e",
   "metadata": {},
   "outputs": [],
   "source": []
  }
 ],
 "metadata": {
  "kernelspec": {
   "display_name": "Python 3 (ipykernel)",
   "language": "python",
   "name": "python3"
  },
  "language_info": {
   "codemirror_mode": {
    "name": "ipython",
    "version": 3
   },
   "file_extension": ".py",
   "mimetype": "text/x-python",
   "name": "python",
   "nbconvert_exporter": "python",
   "pygments_lexer": "ipython3",
   "version": "3.9.13"
  }
 },
 "nbformat": 4,
 "nbformat_minor": 5
}
